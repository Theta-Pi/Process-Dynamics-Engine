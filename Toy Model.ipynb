{
 "cells": [
  {
   "cell_type": "markdown",
   "metadata": {},
   "source": [
    "# PDE testing"
   ]
  },
  {
   "cell_type": "code",
   "execution_count": 12,
   "metadata": {
    "collapsed": true
   },
   "outputs": [],
   "source": [
    "from pde import Tag\n",
    "from pde import Model\n",
    "from pde import Simulation\n",
    "import control"
   ]
  },
  {
   "cell_type": "code",
   "execution_count": 13,
   "metadata": {
    "collapsed": true
   },
   "outputs": [],
   "source": [
    "from models.distillation_models import WoodBerry"
   ]
  },
  {
   "cell_type": "code",
   "execution_count": 14,
   "metadata": {},
   "outputs": [
    {
     "data": {
      "text/plain": [
       "Model name: Wood Berry Distillation Model\n",
       "\n",
       "Input 1 to output 1:\n",
       "    -12.8 s + 25.6\n",
       "---------------------\n",
       "16.7 s^2 + 34.4 s + 2\n",
       "\n",
       "Input 1 to output 2:\n",
       "      -6.6 s + 1.886\n",
       "---------------------------\n",
       "10.9 s^2 + 4.114 s + 0.2857\n",
       "\n",
       "Input 2 to output 1:\n",
       "    18.9 s - 12.6\n",
       "----------------------\n",
       "21 s^2 + 15 s + 0.6667\n",
       "\n",
       "Input 2 to output 2:\n",
       "      19.4 s - 12.93\n",
       "--------------------------\n",
       "14.4 s^2 + 10.6 s + 0.6667\n",
       "\n",
       "Input 3 to output 1:\n",
       "      -3.8 s + 0.95\n",
       "-------------------------\n",
       "14.9 s^2 + 4.725 s + 0.25\n",
       "\n",
       "Input 3 to output 2:\n",
       "      -4.9 s + 3.267\n",
       "-------------------------\n",
       "13.2 s^2 + 9.8 s + 0.6667"
      ]
     },
     "execution_count": 14,
     "metadata": {},
     "output_type": "execute_result"
    }
   ],
   "source": [
    "wood_berry = WoodBerry()\n",
    "wood_berry"
   ]
  },
  {
   "cell_type": "markdown",
   "metadata": {},
   "source": [
    "## Inputs and Ouputs"
   ]
  },
  {
   "cell_type": "code",
   "execution_count": 4,
   "metadata": {
    "collapsed": true
   },
   "outputs": [],
   "source": [
    "R = Tag('Reflux', 'Reflux flow rate', IOtype='INPUT')\n",
    "S = Tag('Steam', 'Steam flow rate', IOtype='INPUT')\n",
    "F = Tag('Feed', 'Feed flow rate', IOtype='INPUT')\n",
    "\n",
    "xD = Tag('x_D', 'Distillate purity', IOtype='OUTPUT')\n",
    "xB = Tag('x_B', 'Bottoms purity', IOtype='OUTPUT')"
   ]
  },
  {
   "cell_type": "markdown",
   "metadata": {},
   "source": [
    "## Wood-Berry Distillation Column\n",
    "Transfer function matrix representation\n",
    "http://nbviewer.jupyter.org/github/OpenChemE/CHBE356/blob/master/Notebooks/5.%20Advanced%20Process%20Control/Building%20MIMO%20systems.ipynb"
   ]
  },
  {
   "cell_type": "code",
   "execution_count": 5,
   "metadata": {
    "collapsed": true
   },
   "outputs": [],
   "source": [
    "g_tf = control.tf([12.8], [16.7,1])\n",
    "td = 1\n",
    "g_delay = control.tf(control.pade(td,1)[0],control.pade(td,1)[1])\n",
    "g11 = g_tf*g_delay\n",
    "\n",
    "g_tf = control.tf([-18.9], [21.0,1])\n",
    "td = 3\n",
    "g_delay = control.tf(control.pade(td,1)[0],control.pade(td,1)[1])\n",
    "g12 = g_tf*g_delay\n",
    "\n",
    "g_tf = control.tf([6.6], [10.9,1])\n",
    "td = 7\n",
    "g_delay = control.tf(control.pade(td,1)[0],control.pade(td,1)[1])\n",
    "g21 = g_tf*g_delay\n",
    "\n",
    "g_tf = control.tf([-19.4], [14.4,1])\n",
    "td = 3\n",
    "g_delay = control.tf(control.pade(td,1)[0],control.pade(td,1)[1])\n",
    "g22 = g_tf*g_delay\n",
    "\n",
    "g_tf = control.tf([3.8], [14.9,1])\n",
    "td = 8\n",
    "g_delay = control.tf(control.pade(td,1)[0],control.pade(td,1)[1])\n",
    "g1f = g_tf*g_delay\n",
    "\n",
    "g_tf = control.tf([4.9], [13.2,1])\n",
    "td = 3\n",
    "g_delay = control.tf(control.pade(td,1)[0],control.pade(td,1)[1])\n",
    "g2f = g_tf*g_delay\n",
    "\n",
    "row_1_num = [x[0][0] for x in (g11.num, g12.num, g1f.num)]\n",
    "row_2_num = [x[0][0] for x in (g21.num, g22.num, g2f.num)]\n",
    "\n",
    "row_1_den = [x[0][0] for x in (g11.den, g12.den, g1f.den)]\n",
    "row_2_den = [x[0][0] for x in (g21.den, g22.den, g2f.den)]\n",
    "\n",
    "sys = control.tf([row_1_num,row_2_num],[row_1_den,row_2_den])"
   ]
  },
  {
   "cell_type": "markdown",
   "metadata": {},
   "source": [
    "## Define Model"
   ]
  },
  {
   "cell_type": "code",
   "execution_count": 6,
   "metadata": {},
   "outputs": [
    {
     "data": {
      "text/plain": [
       "System: \n",
       " \n",
       "Input 1 to output 1:\n",
       "    -12.8 s + 25.6\n",
       "---------------------\n",
       "16.7 s^2 + 34.4 s + 2\n",
       "\n",
       "Input 1 to output 2:\n",
       "      -6.6 s + 1.886\n",
       "---------------------------\n",
       "10.9 s^2 + 4.114 s + 0.2857\n",
       "\n",
       "Input 2 to output 1:\n",
       "    18.9 s - 12.6\n",
       "----------------------\n",
       "21 s^2 + 15 s + 0.6667\n",
       "\n",
       "Input 2 to output 2:\n",
       "      19.4 s - 12.93\n",
       "--------------------------\n",
       "14.4 s^2 + 10.6 s + 0.6667\n",
       "\n",
       "Input 3 to output 1:\n",
       "      -3.8 s + 0.95\n",
       "-------------------------\n",
       "14.9 s^2 + 4.725 s + 0.25\n",
       "\n",
       "Input 3 to output 2:\n",
       "      -4.9 s + 3.267\n",
       "-------------------------\n",
       "13.2 s^2 + 9.8 s + 0.6667"
      ]
     },
     "execution_count": 6,
     "metadata": {},
     "output_type": "execute_result"
    }
   ],
   "source": [
    "inputs = {'R':R,'S':S,'F':F}\n",
    "outputs = {'xD':xD,'xB':xB}\n",
    "wood_berry = Model(sys, \"Wood Berry Distillation Model\", inputs, outputs)\n",
    "wood_berry"
   ]
  },
  {
   "cell_type": "markdown",
   "metadata": {},
   "source": [
    "## Initialize simulation"
   ]
  },
  {
   "cell_type": "code",
   "execution_count": 15,
   "metadata": {},
   "outputs": [
    {
     "name": "stdout",
     "output_type": "stream",
     "text": [
      "Simulation #0 created. Call activate() to activate\n"
     ]
    }
   ],
   "source": [
    "distillation = Simulation(wood_berry, uid='0')"
   ]
  },
  {
   "cell_type": "code",
   "execution_count": 16,
   "metadata": {},
   "outputs": [
    {
     "name": "stdout",
     "output_type": "stream",
     "text": [
      "Simulation #0 activated. Ready to simulate\n"
     ]
    }
   ],
   "source": [
    "distillation.activate()"
   ]
  },
  {
   "cell_type": "markdown",
   "metadata": {},
   "source": [
    "## Run and store"
   ]
  },
  {
   "cell_type": "code",
   "execution_count": 17,
   "metadata": {},
   "outputs": [
    {
     "data": {
      "text/plain": [
       "0.0"
      ]
     },
     "execution_count": 17,
     "metadata": {},
     "output_type": "execute_result"
    }
   ],
   "source": [
    "dictionary = distillation.step()\n",
    "dictionary['xD']"
   ]
  },
  {
   "cell_type": "code",
   "execution_count": 18,
   "metadata": {},
   "outputs": [
    {
     "name": "stdout",
     "output_type": "stream",
     "text": [
      "Updated R to: 0.1\n",
      "Updated S to: 0.1\n",
      "Updated R to: 0.2\n",
      "Updated S to: 0.2\n",
      "Updated R to: 0.3\n",
      "Updated S to: 0.3\n",
      "Updated R to: 0.4\n",
      "Updated S to: 0.4\n",
      "Updated R to: 0.5\n",
      "Updated S to: 0.5\n",
      "Updated R to: 0.6\n",
      "Updated S to: 0.6\n",
      "Updated R to: 0.7\n",
      "Updated S to: 0.7\n",
      "Updated R to: 0.8\n",
      "Updated S to: 0.8\n",
      "Updated R to: 0.9\n",
      "Updated S to: 0.9\n",
      "Updated R to: 1.0\n",
      "Updated S to: 1.0\n",
      "Updated R to: 1.1\n",
      "Updated S to: 1.1\n",
      "Updated R to: 1.2\n",
      "Updated S to: 1.2\n",
      "Updated R to: 1.3\n",
      "Updated S to: 1.3\n",
      "Updated R to: 1.4\n",
      "Updated S to: 1.4\n",
      "Updated R to: 1.5\n",
      "Updated S to: 1.5\n",
      "Updated R to: 1.6\n",
      "Updated S to: 1.6\n",
      "Updated R to: 1.7\n",
      "Updated S to: 1.7\n",
      "Updated R to: 1.8\n",
      "Updated S to: 1.8\n",
      "Updated R to: 1.9\n",
      "Updated S to: 1.9\n",
      "Updated R to: 2.0\n",
      "Updated S to: 2.0\n",
      "Updated R to: 2.1\n",
      "Updated S to: 2.1\n",
      "Updated R to: 2.2\n",
      "Updated S to: 2.2\n",
      "Updated R to: 2.3\n",
      "Updated S to: 2.3\n",
      "Updated R to: 2.4\n",
      "Updated S to: 2.4\n",
      "Updated R to: 2.6\n",
      "Updated S to: 2.6\n",
      "Updated R to: 2.7\n",
      "Updated S to: 2.7\n",
      "Updated R to: 2.8\n",
      "Updated S to: 2.8\n",
      "Updated R to: 2.9\n",
      "Updated S to: 2.9\n",
      "Updated R to: 3.0\n",
      "Updated S to: 3.0\n",
      "Updated R to: 3.1\n",
      "Updated S to: 3.1\n",
      "Updated R to: 3.2\n",
      "Updated S to: 3.2\n",
      "Updated R to: 3.3\n",
      "Updated S to: 3.3\n",
      "Updated R to: 3.4\n",
      "Updated S to: 3.4\n",
      "Updated R to: 3.5\n",
      "Updated S to: 3.5\n",
      "Updated R to: 3.6\n",
      "Updated S to: 3.6\n",
      "Updated R to: 3.7\n",
      "Updated S to: 3.7\n",
      "Updated R to: 3.8\n",
      "Updated S to: 3.8\n",
      "Updated R to: 3.9\n",
      "Updated S to: 3.9\n",
      "Updated R to: 4.0\n",
      "Updated S to: 4.0\n",
      "Updated R to: 4.1\n",
      "Updated S to: 4.1\n",
      "Updated R to: 4.2\n",
      "Updated S to: 4.2\n",
      "Updated R to: 4.3\n",
      "Updated S to: 4.3\n",
      "Updated R to: 4.4\n",
      "Updated S to: 4.4\n",
      "Updated R to: 4.5\n",
      "Updated S to: 4.5\n",
      "Updated R to: 4.6\n",
      "Updated S to: 4.6\n",
      "Updated R to: 4.7\n",
      "Updated S to: 4.7\n",
      "Updated R to: 4.8\n",
      "Updated S to: 4.8\n",
      "Updated R to: 4.9\n",
      "Updated S to: 4.9\n",
      "Updated R to: 5.1\n",
      "Updated S to: 5.1\n",
      "Updated R to: 5.2\n",
      "Updated S to: 5.2\n",
      "Updated R to: 5.3\n",
      "Updated S to: 5.3\n",
      "Updated R to: 5.4\n",
      "Updated S to: 5.4\n",
      "Updated R to: 5.5\n",
      "Updated S to: 5.5\n",
      "Updated R to: 5.6\n",
      "Updated S to: 5.6\n",
      "Updated R to: 5.7\n",
      "Updated S to: 5.7\n",
      "Updated R to: 5.8\n",
      "Updated S to: 5.8\n",
      "Updated R to: 5.9\n",
      "Updated S to: 5.9\n",
      "Updated R to: 6.0\n",
      "Updated S to: 6.0\n",
      "Updated R to: 6.1\n",
      "Updated S to: 6.1\n",
      "Updated R to: 6.2\n",
      "Updated S to: 6.2\n",
      "Updated R to: 6.3\n",
      "Updated S to: 6.3\n",
      "Updated R to: 6.4\n",
      "Updated S to: 6.4\n",
      "Updated R to: 6.5\n",
      "Updated S to: 6.5\n",
      "Updated R to: 6.6\n",
      "Updated S to: 6.6\n",
      "Updated R to: 6.7\n",
      "Updated S to: 6.7\n",
      "Updated R to: 6.8\n",
      "Updated S to: 6.8\n",
      "Updated R to: 6.9\n",
      "Updated S to: 6.9\n",
      "Updated R to: 7.0\n",
      "Updated S to: 7.0\n",
      "Updated R to: 7.1\n",
      "Updated S to: 7.1\n",
      "Updated R to: 7.2\n",
      "Updated S to: 7.2\n",
      "Updated R to: 7.3\n",
      "Updated S to: 7.3\n",
      "Updated R to: 7.4\n",
      "Updated S to: 7.4\n",
      "Updated R to: 7.6\n",
      "Updated S to: 7.6\n",
      "Updated R to: 7.7\n",
      "Updated S to: 7.7\n",
      "Updated R to: 7.8\n",
      "Updated S to: 7.8\n",
      "Updated R to: 7.9\n",
      "Updated S to: 7.9\n",
      "Updated R to: 8.0\n",
      "Updated S to: 8.0\n",
      "Updated R to: 8.1\n",
      "Updated S to: 8.1\n",
      "Updated R to: 8.2\n",
      "Updated S to: 8.2\n",
      "Updated R to: 8.3\n",
      "Updated S to: 8.3\n",
      "Updated R to: 8.4\n",
      "Updated S to: 8.4\n",
      "Updated R to: 8.5\n",
      "Updated S to: 8.5\n",
      "Updated R to: 8.6\n",
      "Updated S to: 8.6\n",
      "Updated R to: 8.7\n",
      "Updated S to: 8.7\n",
      "Updated R to: 8.8\n",
      "Updated S to: 8.8\n",
      "Updated R to: 8.9\n",
      "Updated S to: 8.9\n",
      "Updated R to: 9.0\n",
      "Updated S to: 9.0\n",
      "Updated R to: 9.1\n",
      "Updated S to: 9.1\n",
      "Updated R to: 9.2\n",
      "Updated S to: 9.2\n",
      "Updated R to: 9.3\n",
      "Updated S to: 9.3\n",
      "Updated R to: 9.4\n",
      "Updated S to: 9.4\n",
      "Updated R to: 9.5\n",
      "Updated S to: 9.5\n",
      "Updated R to: 9.6\n",
      "Updated S to: 9.6\n",
      "Updated R to: 9.7\n",
      "Updated S to: 9.7\n",
      "Updated R to: 9.8\n",
      "Updated S to: 9.8\n",
      "Updated R to: 9.9\n",
      "Updated S to: 9.9\n"
     ]
    }
   ],
   "source": [
    "store_xD, store_xB = [], []\n",
    "for i in range(100):\n",
    "    if (i % 25): distillation.updateTag({'R': i/10, 'S': i/10})\n",
    "    results = distillation.step()\n",
    "    store_xD.append(results['xD'])\n",
    "    store_xB.append(results['xB'])"
   ]
  },
  {
   "cell_type": "code",
   "execution_count": 11,
   "metadata": {},
   "outputs": [
    {
     "data": {
      "image/png": "[encoded data removed]",
      "text/plain": [
       "<Figure size 432x288 with 1 Axes>"
      ]
     },
     "metadata": {},
     "output_type": "display_data"
    }
   ],
   "source": [
    "import matplotlib.pyplot as plt\n",
    "plt.plot(store_xD)\n",
    "plt.plot(store_xB)\n",
    "plt.show()"
   ]
  },
  {
   "cell_type": "code",
   "execution_count": null,
   "metadata": {
    "collapsed": true
   },
   "outputs": [],
   "source": []
  }
 ],
 "metadata": {
  "kernelspec": {
   "display_name": "Python 3",
   "language": "python",
   "name": "python3"
  },
  "language_info": {
   "codemirror_mode": {
    "name": "ipython",
    "version": 3
   },
   "file_extension": ".py",
   "mimetype": "text/x-python",
   "name": "python",
   "nbconvert_exporter": "python",
   "pygments_lexer": "ipython3",
   "version": "3.6.1"
  }
 },
 "nbformat": 4,
 "nbformat_minor": 2
}
